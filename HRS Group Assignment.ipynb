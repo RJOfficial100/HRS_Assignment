{
 "cells": [
  {
   "cell_type": "code",
   "execution_count": 116,
   "metadata": {},
   "outputs": [],
   "source": [
    "#Import spark session\n",
    "import pyspark\n",
    "from pyspark.sql import SparkSession\n",
    "spark=SparkSession.builder.master(\"local[2]\").appName(\"HRSAssignment\").getOrCreate()# change session setup according to running Env"
   ]
  },
  {
   "cell_type": "code",
   "execution_count": 119,
   "metadata": {},
   "outputs": [],
   "source": [
    "from pyspark.sql import functions as F\n",
    "hotelsDF=spark.read.options(header=True,delimiter=',').csv('D:\\Companies\\HRS Group\\HRS_Assignment/hotels.csv') #change file location and name according to you\n",
    "# hotelsDF.select(['market_segment']).distinct().show()\n",
    "tourOpDF=hotelsDF.filter(F.col('market_segment')=='Offline TA/TO') #extracted every booking that the Tour Operators as Market Segment designations.\n",
    "\n",
    "\n",
    "int_type_columns=['stays_in_weekend_nights','stays_in_week_nights','children','babies'] # consume these columns as int below\n",
    "for col in int_type_columns:\n",
    "    tourOpDF=tourOpDF.withColumn(col, tourOpDF[col].cast('int'))\n",
    "    \n",
    "# tourOpDF.printSchema()"
   ]
  },
  {
   "cell_type": "code",
   "execution_count": 123,
   "metadata": {},
   "outputs": [],
   "source": [
    "import datetime\n",
    "def monthNametoNumber(str):  # used to convert month name to month number eg. July->07\n",
    "    result=datetime.datetime.strptime(str,'%B')\n",
    "    return result.month \n",
    "\n",
    "monthNametoNumberUDF = F.udf(lambda z: monthNametoNumber(z),F.StringType())\n",
    "arrdtDF=tourOpDF.select('*',F.to_date(F.concat_ws('-',F.col('arrival_date_year'),monthNametoNumberUDF(F.col('arrival_date_month')),F.col('arrival_date_day_of_month')) \\\n",
    "               ,'y-M-d').alias('arrival_date'))# Added arrival_date\n",
    "\n",
    "\n",
    "depDtDF=arrdtDF.withColumn('departure_date',F.expr(\"date_add(arrival_date,stays_in_weekend_nights+stays_in_week_nights)\"))\n",
    "#added departure date"
   ]
  },
  {
   "cell_type": "code",
   "execution_count": 124,
   "metadata": {},
   "outputs": [
    {
     "name": "stdout",
     "output_type": "stream",
     "text": [
      "+------------+-----------+---------+-----------------+------------------+------------------------+-------------------------+-----------------------+--------------------+------+--------+------+----+-------+--------------+--------------------+-----------------+----------------------+------------------------------+------------------+------------------+---------------+------------+-----+-------+--------------------+---------------+-----+---------------------------+-------------------------+------------------+-----------------------+------------+--------------+---------------------+\n",
      "|       hotel|is_canceled|lead_time|arrival_date_year|arrival_date_month|arrival_date_week_number|arrival_date_day_of_month|stays_in_weekend_nights|stays_in_week_nights|adults|children|babies|meal|country|market_segment|distribution_channel|is_repeated_guest|previous_cancellations|previous_bookings_not_canceled|reserved_room_type|assigned_room_type|booking_changes|deposit_type|agent|company|days_in_waiting_list|  customer_type|  adr|required_car_parking_spaces|total_of_special_requests|reservation_status|reservation_status_date|arrival_date|departure_date|with_family_breakfast|\n",
      "+------------+-----------+---------+-----------------+------------------+------------------------+-------------------------+-----------------------+--------------------+------+--------+------+----+-------+--------------+--------------------+-----------------+----------------------+------------------------------+------------------+------------------+---------------+------------+-----+-------+--------------------+---------------+-----+---------------------------+-------------------------+------------------+-----------------------+------------+--------------+---------------------+\n",
      "|Resort Hotel|          1|       75|             2015|              July|                      27|                        1|                      0|                   3|     2|       0|     0|  HB|    PRT| Offline TA/TO|               TA/TO|                0|                     0|                             0|                 D|                 D|              0|  No Deposit|   15|   NULL|                   0|      Transient|105.5|                          0|                        0|          Canceled|             2015-04-22|  2015-07-01|    2015-07-04|                   No|\n",
      "|Resort Hotel|          0|       37|             2015|              July|                      27|                        1|                      0|                   4|     2|       0|     0|  BB|    PRT| Offline TA/TO|               TA/TO|                0|                     0|                             0|                 E|                 E|              0|  No Deposit|    8|   NULL|                   0|       Contract| 97.5|                          0|                        0|         Check-Out|             2015-07-05|  2015-07-01|    2015-07-05|                   No|\n",
      "|Resort Hotel|          0|      127|             2015|              July|                      27|                        1|                      2|                   5|     2|       0|     0|  HB|    GBR| Offline TA/TO|               TA/TO|                0|                     0|                             0|                 D|                 I|              0|  No Deposit|  115|   NULL|                   0|       Contract|94.95|                          0|                        1|         Check-Out|             2015-07-01|  2015-07-01|    2015-07-08|                   No|\n",
      "|Resort Hotel|          0|       78|             2015|              July|                      27|                        1|                      2|                   5|     2|       0|     0|  BB|    PRT| Offline TA/TO|               TA/TO|                0|                     0|                             0|                 D|                 D|              0|  No Deposit|    5|   NULL|                   0|      Transient| 63.6|                          1|                        0|         Check-Out|             2015-07-08|  2015-07-01|    2015-07-08|                   No|\n",
      "|Resort Hotel|          0|       48|             2015|              July|                      27|                        1|                      2|                   5|     2|       0|     0|  BB|    IRL| Offline TA/TO|               TA/TO|                0|                     0|                             0|                 D|                 D|              0|  No Deposit|    8|   NULL|                   0|       Contract| 79.5|                          0|                        0|         Check-Out|             2015-07-08|  2015-07-01|    2015-07-08|                   No|\n",
      "|Resort Hotel|          0|       95|             2015|              July|                      27|                        1|                      4|                  11|     2|       0|     0|  BB|    GBR| Offline TA/TO|               TA/TO|                0|                     0|                             0|                 D|                 D|              0|  No Deposit|  241|   NULL|                   0|      Transient|63.86|                          0|                        0|         Check-Out|             2015-07-16|  2015-07-01|    2015-07-16|                   No|\n",
      "|Resort Hotel|          0|       69|             2015|              July|                      27|                        2|                      2|                   4|     2|       0|     0|  BB|    IRL| Offline TA/TO|               TA/TO|                0|                     0|                             0|                 A|                 C|              0|  No Deposit|  175|   NULL|                   0|      Transient| 65.5|                          0|                        0|         Check-Out|             2015-07-08|  2015-07-02|    2015-07-08|                   No|\n",
      "|Resort Hotel|          0|       45|             2015|              July|                      27|                        2|                      2|                   3|     2|       0|     0|  BB|    IRL| Offline TA/TO|               TA/TO|                0|                     0|                             0|                 D|                 D|              0|  No Deposit|    8|   NULL|                   0|       Contract| 79.5|                          0|                        0|         Check-Out|             2015-07-07|  2015-07-02|    2015-07-07|                   No|\n",
      "|Resort Hotel|          0|       96|             2015|              July|                      27|                        2|                      2|                   5|     2|       0|     0|  BB|    ESP| Offline TA/TO|               TA/TO|                0|                     0|                             0|                 A|                 A|              0|  No Deposit|  134|   NULL|                   0|      Transient|58.95|                          0|                        1|         Check-Out|             2015-07-09|  2015-07-02|    2015-07-09|                   No|\n",
      "|Resort Hotel|          0|      113|             2015|              July|                      27|                        2|                      2|                   5|     2|       0|     0|  BB|    NOR| Offline TA/TO|               TA/TO|                0|                     0|                             0|                 E|                 E|              0|  No Deposit|  156|   NULL|                   0|Transient-Party|82.88|                          0|                        2|         Check-Out|             2015-07-09|  2015-07-02|    2015-07-09|                   No|\n",
      "|Resort Hotel|          0|       90|             2015|              July|                      27|                        2|                      2|                   5|     2|       0|     0|  HB|    GBR| Offline TA/TO|               TA/TO|                0|                     0|                             0|                 A|                 B|              1|  No Deposit|  243|   NULL|                   0|       Contract|82.35|                          0|                        0|         Check-Out|             2015-07-09|  2015-07-02|    2015-07-09|                   No|\n",
      "|Resort Hotel|          0|      113|             2015|              July|                      27|                        2|                      2|                   5|     2|       0|     0|  BB|    NOR| Offline TA/TO|               TA/TO|                0|                     0|                             0|                 D|                 D|              0|  No Deposit|  156|   NULL|                   0|Transient-Party|67.58|                          0|                        2|         Check-Out|             2015-07-09|  2015-07-02|    2015-07-09|                   No|\n",
      "|Resort Hotel|          0|       93|             2015|              July|                      27|                        2|                      3|                   8|     2|       0|     0|  BB|    IRL| Offline TA/TO|               TA/TO|                0|                     0|                             0|                 A|                 A|              0|  No Deposit|  156|   NULL|                   0|       Contract|56.01|                          0|                        0|         Check-Out|             2015-07-13|  2015-07-02|    2015-07-13|                   No|\n",
      "|Resort Hotel|          0|       76|             2015|              July|                      27|                        2|                      4|                  10|     2|       0|     0|  BB|    OMN| Offline TA/TO|               TA/TO|                0|                     0|                             0|                 D|                 D|              0|  No Deposit|  243|   NULL|                   0|       Contract|110.7|                          0|                        0|         Check-Out|             2015-07-16|  2015-07-02|    2015-07-16|                   No|\n",
      "|Resort Hotel|          0|       93|             2015|              July|                      27|                        2|                      0|                   3|     2|       0|     0|  BB|    IRL| Offline TA/TO|               TA/TO|                0|                     0|                             0|                 A|                 C|              0|  No Deposit|  115|   NULL|                   0|       Contract|58.95|                          0|                        0|         Check-Out|             2015-07-05|  2015-07-02|    2015-07-05|                   No|\n",
      "|Resort Hotel|          1|       71|             2015|              July|                      27|                        3|                      0|                   2|     3|       0|     0|  BB|    PRT| Offline TA/TO|               TA/TO|                0|                     0|                             0|                 A|                 A|              0|  No Deposit|  242|   NULL|                   0|      Transient|110.3|                          0|                        2|          Canceled|             2015-06-16|  2015-07-03|    2015-07-05|                   No|\n",
      "|Resort Hotel|          0|        2|             2015|              July|                      27|                        3|                      0|                   2|     2|       0|     0|  HB|    PRT| Offline TA/TO|               TA/TO|                0|                     0|                             0|                 A|                 A|              0|  No Deposit|    3|   NULL|                   0|      Transient| 91.5|                          0|                        0|         Check-Out|             2015-07-05|  2015-07-03|    2015-07-05|                   No|\n",
      "|Resort Hotel|          0|       72|             2015|              July|                      27|                        3|                      2|                   2|     2|       0|     0|  BB|    DEU| Offline TA/TO|               TA/TO|                0|                     0|                             0|                 A|                 A|              0|  No Deposit|  105|   NULL|                   0|      Transient|110.7|                          1|                        0|         Check-Out|             2015-07-07|  2015-07-03|    2015-07-07|                   No|\n",
      "|Resort Hotel|          0|       81|             2015|              July|                      27|                        3|                      2|                   6|     3|       0|     0|  BB|    PRT| Offline TA/TO|               TA/TO|                0|                     0|                             0|                 D|                 D|              0|  No Deposit|    5|   NULL|                   0|      Transient|85.86|                          0|                        0|         Check-Out|             2015-07-11|  2015-07-03|    2015-07-11|                   No|\n",
      "|Resort Hotel|          0|       99|             2015|              July|                      27|                        3|                      2|                   7|     2|       0|     0|  BB|    FRA| Offline TA/TO|               TA/TO|                0|                     0|                             0|                 A|                 A|              0|  No Deposit|   40|   NULL|                   0|       Contract|58.95|                          0|                        0|         Check-Out|             2015-07-12|  2015-07-03|    2015-07-12|                   No|\n",
      "+------------+-----------+---------+-----------------+------------------+------------------------+-------------------------+-----------------------+--------------------+------+--------+------+----+-------+--------------+--------------------+-----------------+----------------------+------------------------------+------------------+------------------+---------------+------------+-----+-------+--------------------+---------------+-----+---------------------------+-------------------------+------------------+-----------------------+------------+--------------+---------------------+\n",
      "only showing top 20 rows\n",
      "\n"
     ]
    }
   ],
   "source": [
    "depDtDF.withColumn('with_family_breakfast',F.when((depDtDF.babies+depDtDF.children)>0,'Yes').otherwise('No')).show()\n",
    "# added with family breakfast."
   ]
  },
  {
   "cell_type": "code",
   "execution_count": null,
   "metadata": {},
   "outputs": [],
   "source": []
  }
 ],
 "metadata": {
  "kernelspec": {
   "display_name": "Python 3",
   "language": "python",
   "name": "python3"
  },
  "language_info": {
   "codemirror_mode": {
    "name": "ipython",
    "version": 3
   },
   "file_extension": ".py",
   "mimetype": "text/x-python",
   "name": "python",
   "nbconvert_exporter": "python",
   "pygments_lexer": "ipython3",
   "version": "3.8.5"
  }
 },
 "nbformat": 4,
 "nbformat_minor": 4
}
